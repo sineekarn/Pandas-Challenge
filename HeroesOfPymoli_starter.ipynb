{
 "cells": [
  {
   "cell_type": "markdown",
   "metadata": {},
   "source": [
    "### Note\n",
    "* Instructions have been included for each segment. You do not have to follow them exactly, but they are included to help you think through the steps."
   ]
  },
  {
   "cell_type": "code",
   "execution_count": 435,
   "metadata": {},
   "outputs": [
    {
     "data": {
      "text/html": [
       "<div>\n",
       "<style scoped>\n",
       "    .dataframe tbody tr th:only-of-type {\n",
       "        vertical-align: middle;\n",
       "    }\n",
       "\n",
       "    .dataframe tbody tr th {\n",
       "        vertical-align: top;\n",
       "    }\n",
       "\n",
       "    .dataframe thead th {\n",
       "        text-align: right;\n",
       "    }\n",
       "</style>\n",
       "<table border=\"1\" class=\"dataframe\">\n",
       "  <thead>\n",
       "    <tr style=\"text-align: right;\">\n",
       "      <th></th>\n",
       "      <th>Purchase ID</th>\n",
       "      <th>SN</th>\n",
       "      <th>Age</th>\n",
       "      <th>Gender</th>\n",
       "      <th>Item ID</th>\n",
       "      <th>Item Name</th>\n",
       "      <th>Price</th>\n",
       "    </tr>\n",
       "  </thead>\n",
       "  <tbody>\n",
       "    <tr>\n",
       "      <td>0</td>\n",
       "      <td>0</td>\n",
       "      <td>Lisim78</td>\n",
       "      <td>20</td>\n",
       "      <td>Male</td>\n",
       "      <td>108</td>\n",
       "      <td>Extraction, Quickblade Of Trembling Hands</td>\n",
       "      <td>3.53</td>\n",
       "    </tr>\n",
       "    <tr>\n",
       "      <td>1</td>\n",
       "      <td>1</td>\n",
       "      <td>Lisovynya38</td>\n",
       "      <td>40</td>\n",
       "      <td>Male</td>\n",
       "      <td>143</td>\n",
       "      <td>Frenzied Scimitar</td>\n",
       "      <td>1.56</td>\n",
       "    </tr>\n",
       "    <tr>\n",
       "      <td>2</td>\n",
       "      <td>2</td>\n",
       "      <td>Ithergue48</td>\n",
       "      <td>24</td>\n",
       "      <td>Male</td>\n",
       "      <td>92</td>\n",
       "      <td>Final Critic</td>\n",
       "      <td>4.88</td>\n",
       "    </tr>\n",
       "    <tr>\n",
       "      <td>3</td>\n",
       "      <td>3</td>\n",
       "      <td>Chamassasya86</td>\n",
       "      <td>24</td>\n",
       "      <td>Male</td>\n",
       "      <td>100</td>\n",
       "      <td>Blindscythe</td>\n",
       "      <td>3.27</td>\n",
       "    </tr>\n",
       "    <tr>\n",
       "      <td>4</td>\n",
       "      <td>4</td>\n",
       "      <td>Iskosia90</td>\n",
       "      <td>23</td>\n",
       "      <td>Male</td>\n",
       "      <td>131</td>\n",
       "      <td>Fury</td>\n",
       "      <td>1.44</td>\n",
       "    </tr>\n",
       "  </tbody>\n",
       "</table>\n",
       "</div>"
      ],
      "text/plain": [
       "   Purchase ID             SN  Age Gender  Item ID  \\\n",
       "0            0        Lisim78   20   Male      108   \n",
       "1            1    Lisovynya38   40   Male      143   \n",
       "2            2     Ithergue48   24   Male       92   \n",
       "3            3  Chamassasya86   24   Male      100   \n",
       "4            4      Iskosia90   23   Male      131   \n",
       "\n",
       "                                   Item Name  Price  \n",
       "0  Extraction, Quickblade Of Trembling Hands   3.53  \n",
       "1                          Frenzied Scimitar   1.56  \n",
       "2                               Final Critic   4.88  \n",
       "3                                Blindscythe   3.27  \n",
       "4                                       Fury   1.44  "
      ]
     },
     "execution_count": 435,
     "metadata": {},
     "output_type": "execute_result"
    }
   ],
   "source": [
    "# Dependencies and Setup\n",
    "import pandas as pd\n",
    "\n",
    "# File to Load (Remember to Change These)\n",
    "file_to_load = \"Resources/purchase_data.csv\"\n",
    "\n",
    "# Read Purchasing File and store into Pandas data frame\n",
    "purchase_data = pd.read_csv(file_to_load)\n",
    "\n",
    "purchase_data.head()"
   ]
  },
  {
   "cell_type": "code",
   "execution_count": 436,
   "metadata": {},
   "outputs": [
    {
     "data": {
      "text/plain": [
       "Purchase ID    780\n",
       "SN             576\n",
       "Age             39\n",
       "Gender           3\n",
       "Item ID        183\n",
       "Item Name      179\n",
       "Price          145\n",
       "dtype: int64"
      ]
     },
     "execution_count": 436,
     "metadata": {},
     "output_type": "execute_result"
    }
   ],
   "source": [
    "# Find unique values for each column\n",
    "unseries = purchase_data.nunique()\n",
    "unseries"
   ]
  },
  {
   "cell_type": "markdown",
   "metadata": {},
   "source": [
    "## Player Count"
   ]
  },
  {
   "cell_type": "markdown",
   "metadata": {},
   "source": [
    "* Display the total number of players\n"
   ]
  },
  {
   "cell_type": "code",
   "execution_count": 437,
   "metadata": {},
   "outputs": [
    {
     "data": {
      "text/plain": [
       "576"
      ]
     },
     "execution_count": 437,
     "metadata": {},
     "output_type": "execute_result"
    }
   ],
   "source": [
    "# The value_counts method counts unique values in a column\n",
    "unique_players = len(purchase_data.SN.unique())\n",
    "# players_count\n",
    "unique_players"
   ]
  },
  {
   "cell_type": "code",
   "execution_count": 438,
   "metadata": {},
   "outputs": [
    {
     "data": {
      "text/html": [
       "<div>\n",
       "<style scoped>\n",
       "    .dataframe tbody tr th:only-of-type {\n",
       "        vertical-align: middle;\n",
       "    }\n",
       "\n",
       "    .dataframe tbody tr th {\n",
       "        vertical-align: top;\n",
       "    }\n",
       "\n",
       "    .dataframe thead th {\n",
       "        text-align: right;\n",
       "    }\n",
       "</style>\n",
       "<table border=\"1\" class=\"dataframe\">\n",
       "  <thead>\n",
       "    <tr style=\"text-align: right;\">\n",
       "      <th></th>\n",
       "      <th>Total Players</th>\n",
       "    </tr>\n",
       "  </thead>\n",
       "  <tbody>\n",
       "    <tr>\n",
       "      <td>0</td>\n",
       "      <td>576</td>\n",
       "    </tr>\n",
       "  </tbody>\n",
       "</table>\n",
       "</div>"
      ],
      "text/plain": [
       "   Total Players\n",
       "0            576"
      ]
     },
     "execution_count": 438,
     "metadata": {},
     "output_type": "execute_result"
    }
   ],
   "source": [
    "#Display the total number of players\n",
    "total_players_count = pd.DataFrame({\"Total Players\": [unique_players]})\n",
    "total_players_count"
   ]
  },
  {
   "cell_type": "markdown",
   "metadata": {},
   "source": [
    "## Purchasing Analysis (Total)"
   ]
  },
  {
   "cell_type": "markdown",
   "metadata": {},
   "source": [
    "* Run basic calculations to obtain number of unique items, average price, etc.\n",
    "\n",
    "\n",
    "* Create a summary data frame to hold the results\n",
    "\n",
    "\n",
    "* Optional: give the displayed data cleaner formatting\n",
    "\n",
    "\n",
    "* Display the summary data frame\n"
   ]
  },
  {
   "cell_type": "code",
   "execution_count": 439,
   "metadata": {
    "scrolled": true
   },
   "outputs": [
    {
     "data": {
      "text/plain": [
       "183"
      ]
     },
     "execution_count": 439,
     "metadata": {},
     "output_type": "execute_result"
    }
   ],
   "source": [
    "#To obtain number of unique items\n",
    "unique_items = len(purchase_data.iloc[:,4].unique())\n",
    "unique_items"
   ]
  },
  {
   "cell_type": "code",
   "execution_count": 440,
   "metadata": {},
   "outputs": [
    {
     "data": {
      "text/plain": [
       "3.050987179487176"
      ]
     },
     "execution_count": 440,
     "metadata": {},
     "output_type": "execute_result"
    }
   ],
   "source": [
    "#To obtain average price\n",
    "average_price = purchase_data.Price.mean() \n",
    "average_price"
   ]
  },
  {
   "cell_type": "code",
   "execution_count": 441,
   "metadata": {},
   "outputs": [
    {
     "data": {
      "text/plain": [
       "780"
      ]
     },
     "execution_count": 441,
     "metadata": {},
     "output_type": "execute_result"
    }
   ],
   "source": [
    "#To obtain number of unique purchase ID\n",
    "number_of_purchases = unseries[\"Purchase ID\"]\n",
    "number_of_purchases"
   ]
  },
  {
   "cell_type": "code",
   "execution_count": 522,
   "metadata": {},
   "outputs": [
    {
     "data": {
      "text/plain": [
       "2379.77"
      ]
     },
     "execution_count": 522,
     "metadata": {},
     "output_type": "execute_result"
    }
   ],
   "source": [
    "#To obtain total revenue\n",
    "total_revenue = purchase_data.Price.sum()\n",
    "total_revenue"
   ]
  },
  {
   "cell_type": "code",
   "execution_count": 606,
   "metadata": {},
   "outputs": [
    {
     "data": {
      "text/html": [
       "<style  type=\"text/css\" >\n",
       "</style><table id=\"T_bddb61f2_1eb2_11ea_bb1b_2cf0ee2f7552\" ><thead>    <tr>        <th class=\"blank level0\" ></th>        <th class=\"col_heading level0 col0\" >Number of Unique Items</th>        <th class=\"col_heading level0 col1\" >Average Price</th>        <th class=\"col_heading level0 col2\" >Number of Purchases</th>        <th class=\"col_heading level0 col3\" >Total Revenue</th>    </tr></thead><tbody>\n",
       "                <tr>\n",
       "                        <th id=\"T_bddb61f2_1eb2_11ea_bb1b_2cf0ee2f7552level0_row0\" class=\"row_heading level0 row0\" >0</th>\n",
       "                        <td id=\"T_bddb61f2_1eb2_11ea_bb1b_2cf0ee2f7552row0_col0\" class=\"data row0 col0\" >183</td>\n",
       "                        <td id=\"T_bddb61f2_1eb2_11ea_bb1b_2cf0ee2f7552row0_col1\" class=\"data row0 col1\" >$3.05</td>\n",
       "                        <td id=\"T_bddb61f2_1eb2_11ea_bb1b_2cf0ee2f7552row0_col2\" class=\"data row0 col2\" >780</td>\n",
       "                        <td id=\"T_bddb61f2_1eb2_11ea_bb1b_2cf0ee2f7552row0_col3\" class=\"data row0 col3\" >$2,379.77</td>\n",
       "            </tr>\n",
       "    </tbody></table>"
      ],
      "text/plain": [
       "<pandas.io.formats.style.Styler at 0x121e63b90>"
      ]
     },
     "execution_count": 606,
     "metadata": {},
     "output_type": "execute_result"
    }
   ],
   "source": [
    "purchasing_analysis_total = pd.DataFrame({\"Number of Unique Items\":[unique_items], \"Average Price\":[average_price], \"Number of Purchases\": [number_of_purchases], \"Total Revenue\": [total_revenue]})\n",
    "purchasing_analysis_total \n",
    "\n",
    "# Format with currency sign\n",
    "purchasing_analysis_total.style.format({\"Average Price\":\"${:,.2f}\", \"Total Revenue\":\"${:,.2f}\"})"
   ]
  },
  {
   "cell_type": "markdown",
   "metadata": {},
   "source": [
    "## Gender Demographics"
   ]
  },
  {
   "cell_type": "markdown",
   "metadata": {},
   "source": [
    "* Percentage and Count of Male Players\n",
    "\n",
    "\n",
    "* Percentage and Count of Female Players\n",
    "\n",
    "\n",
    "* Percentage and Count of Other / Non-Disclosed\n",
    "\n",
    "\n"
   ]
  },
  {
   "cell_type": "code",
   "execution_count": 555,
   "metadata": {},
   "outputs": [
    {
     "data": {
      "text/plain": [
       "Gender\n",
       "Female                    81\n",
       "Male                     484\n",
       "Other / Non-Disclosed     11\n",
       "Name: SN, dtype: int64"
      ]
     },
     "execution_count": 555,
     "metadata": {},
     "output_type": "execute_result"
    }
   ],
   "source": [
    "#Find unique gender count\n",
    "unique_gender_count = purchase_data.groupby(\"Gender\")[\"SN\"].nunique()\n",
    "unique_gender_count.head()"
   ]
  },
  {
   "cell_type": "code",
   "execution_count": 556,
   "metadata": {},
   "outputs": [
    {
     "data": {
      "text/plain": [
       "Gender\n",
       "Female                   0.140625\n",
       "Male                     0.840278\n",
       "Other / Non-Disclosed    0.019097\n",
       "Name: SN, dtype: float64"
      ]
     },
     "execution_count": 556,
     "metadata": {},
     "output_type": "execute_result"
    }
   ],
   "source": [
    "#Find unique gender percentage\n",
    "unique_gender_percentage = (unique_gender_count/unique_players)\n",
    "unique_gender_percentage "
   ]
  },
  {
   "cell_type": "code",
   "execution_count": 557,
   "metadata": {},
   "outputs": [
    {
     "data": {
      "text/html": [
       "<style  type=\"text/css\" >\n",
       "</style><table id=\"T_2a5e7090_1d4f_11ea_bb1b_2cf0ee2f7552\" ><thead>    <tr>        <th class=\"blank level0\" ></th>        <th class=\"col_heading level0 col0\" >Gender Count</th>        <th class=\"col_heading level0 col1\" >Gender Percentage</th>    </tr>    <tr>        <th class=\"index_name level0\" >Gender</th>        <th class=\"blank\" ></th>        <th class=\"blank\" ></th>    </tr></thead><tbody>\n",
       "                <tr>\n",
       "                        <th id=\"T_2a5e7090_1d4f_11ea_bb1b_2cf0ee2f7552level0_row0\" class=\"row_heading level0 row0\" >Female</th>\n",
       "                        <td id=\"T_2a5e7090_1d4f_11ea_bb1b_2cf0ee2f7552row0_col0\" class=\"data row0 col0\" >81</td>\n",
       "                        <td id=\"T_2a5e7090_1d4f_11ea_bb1b_2cf0ee2f7552row0_col1\" class=\"data row0 col1\" >14.06%</td>\n",
       "            </tr>\n",
       "            <tr>\n",
       "                        <th id=\"T_2a5e7090_1d4f_11ea_bb1b_2cf0ee2f7552level0_row1\" class=\"row_heading level0 row1\" >Male</th>\n",
       "                        <td id=\"T_2a5e7090_1d4f_11ea_bb1b_2cf0ee2f7552row1_col0\" class=\"data row1 col0\" >484</td>\n",
       "                        <td id=\"T_2a5e7090_1d4f_11ea_bb1b_2cf0ee2f7552row1_col1\" class=\"data row1 col1\" >84.03%</td>\n",
       "            </tr>\n",
       "            <tr>\n",
       "                        <th id=\"T_2a5e7090_1d4f_11ea_bb1b_2cf0ee2f7552level0_row2\" class=\"row_heading level0 row2\" >Other / Non-Disclosed</th>\n",
       "                        <td id=\"T_2a5e7090_1d4f_11ea_bb1b_2cf0ee2f7552row2_col0\" class=\"data row2 col0\" >11</td>\n",
       "                        <td id=\"T_2a5e7090_1d4f_11ea_bb1b_2cf0ee2f7552row2_col1\" class=\"data row2 col1\" >1.91%</td>\n",
       "            </tr>\n",
       "    </tbody></table>"
      ],
      "text/plain": [
       "<pandas.io.formats.style.Styler at 0x121847fd0>"
      ]
     },
     "execution_count": 557,
     "metadata": {},
     "output_type": "execute_result"
    }
   ],
   "source": [
    "# Create Gender Demographics data frame\n",
    "gender_demographics = pd.DataFrame({\"Gender Count\": unique_gender_count,\"Gender Percentage\":unique_gender_percentage})\n",
    "gender_demographics.round(2)\n",
    "\n",
    "#Formatting\n",
    "\n",
    "gender_demographics.style.format({'Gender Percentage': \"{:,.2%}\"})"
   ]
  },
  {
   "cell_type": "markdown",
   "metadata": {},
   "source": [
    "\n",
    "## Purchasing Analysis (Gender)"
   ]
  },
  {
   "cell_type": "markdown",
   "metadata": {},
   "source": [
    "* Run basic calculations to obtain purchase count, avg. purchase price, avg. purchase total per person etc. by gender\n",
    "\n",
    "* Create a summary data frame to hold the results\n",
    "\n",
    "\n",
    "* Optional: give the displayed data cleaner formatting\n",
    "\n",
    "\n",
    "* Display the summary data frame"
   ]
  },
  {
   "cell_type": "code",
   "execution_count": 559,
   "metadata": {},
   "outputs": [
    {
     "data": {
      "text/html": [
       "<div>\n",
       "<style scoped>\n",
       "    .dataframe tbody tr th:only-of-type {\n",
       "        vertical-align: middle;\n",
       "    }\n",
       "\n",
       "    .dataframe tbody tr th {\n",
       "        vertical-align: top;\n",
       "    }\n",
       "\n",
       "    .dataframe thead th {\n",
       "        text-align: right;\n",
       "    }\n",
       "</style>\n",
       "<table border=\"1\" class=\"dataframe\">\n",
       "  <thead>\n",
       "    <tr style=\"text-align: right;\">\n",
       "      <th></th>\n",
       "      <th>Purchase ID</th>\n",
       "      <th>SN</th>\n",
       "      <th>Age</th>\n",
       "      <th>Gender</th>\n",
       "      <th>Item ID</th>\n",
       "      <th>Item Name</th>\n",
       "      <th>Price</th>\n",
       "      <th>Age_Group</th>\n",
       "    </tr>\n",
       "  </thead>\n",
       "  <tbody>\n",
       "    <tr>\n",
       "      <td>0</td>\n",
       "      <td>0</td>\n",
       "      <td>Lisim78</td>\n",
       "      <td>20</td>\n",
       "      <td>Male</td>\n",
       "      <td>108</td>\n",
       "      <td>Extraction, Quickblade Of Trembling Hands</td>\n",
       "      <td>3.53</td>\n",
       "      <td>20-24</td>\n",
       "    </tr>\n",
       "    <tr>\n",
       "      <td>1</td>\n",
       "      <td>1</td>\n",
       "      <td>Lisovynya38</td>\n",
       "      <td>40</td>\n",
       "      <td>Male</td>\n",
       "      <td>143</td>\n",
       "      <td>Frenzied Scimitar</td>\n",
       "      <td>1.56</td>\n",
       "      <td>40+</td>\n",
       "    </tr>\n",
       "    <tr>\n",
       "      <td>2</td>\n",
       "      <td>2</td>\n",
       "      <td>Ithergue48</td>\n",
       "      <td>24</td>\n",
       "      <td>Male</td>\n",
       "      <td>92</td>\n",
       "      <td>Final Critic</td>\n",
       "      <td>4.88</td>\n",
       "      <td>20-24</td>\n",
       "    </tr>\n",
       "    <tr>\n",
       "      <td>3</td>\n",
       "      <td>3</td>\n",
       "      <td>Chamassasya86</td>\n",
       "      <td>24</td>\n",
       "      <td>Male</td>\n",
       "      <td>100</td>\n",
       "      <td>Blindscythe</td>\n",
       "      <td>3.27</td>\n",
       "      <td>20-24</td>\n",
       "    </tr>\n",
       "    <tr>\n",
       "      <td>4</td>\n",
       "      <td>4</td>\n",
       "      <td>Iskosia90</td>\n",
       "      <td>23</td>\n",
       "      <td>Male</td>\n",
       "      <td>131</td>\n",
       "      <td>Fury</td>\n",
       "      <td>1.44</td>\n",
       "      <td>20-24</td>\n",
       "    </tr>\n",
       "    <tr>\n",
       "      <td>9</td>\n",
       "      <td>9</td>\n",
       "      <td>Chanosian48</td>\n",
       "      <td>35</td>\n",
       "      <td>Other / Non-Disclosed</td>\n",
       "      <td>136</td>\n",
       "      <td>Ghastly Adamantite Protector</td>\n",
       "      <td>3.58</td>\n",
       "      <td>35-39</td>\n",
       "    </tr>\n",
       "    <tr>\n",
       "      <td>15</td>\n",
       "      <td>15</td>\n",
       "      <td>Lisassa64</td>\n",
       "      <td>21</td>\n",
       "      <td>Female</td>\n",
       "      <td>98</td>\n",
       "      <td>Deadline, Voice Of Subtlety</td>\n",
       "      <td>2.89</td>\n",
       "      <td>20-24</td>\n",
       "    </tr>\n",
       "    <tr>\n",
       "      <td>18</td>\n",
       "      <td>18</td>\n",
       "      <td>Reunasu60</td>\n",
       "      <td>22</td>\n",
       "      <td>Female</td>\n",
       "      <td>82</td>\n",
       "      <td>Nirvana</td>\n",
       "      <td>4.90</td>\n",
       "      <td>20-24</td>\n",
       "    </tr>\n",
       "    <tr>\n",
       "      <td>22</td>\n",
       "      <td>22</td>\n",
       "      <td>Siarithria38</td>\n",
       "      <td>38</td>\n",
       "      <td>Other / Non-Disclosed</td>\n",
       "      <td>24</td>\n",
       "      <td>Warped Fetish</td>\n",
       "      <td>3.81</td>\n",
       "      <td>35-39</td>\n",
       "    </tr>\n",
       "    <tr>\n",
       "      <td>38</td>\n",
       "      <td>38</td>\n",
       "      <td>Reulae52</td>\n",
       "      <td>10</td>\n",
       "      <td>Female</td>\n",
       "      <td>116</td>\n",
       "      <td>Renewed Skeletal Katana</td>\n",
       "      <td>4.18</td>\n",
       "      <td>10-14</td>\n",
       "    </tr>\n",
       "    <tr>\n",
       "      <td>41</td>\n",
       "      <td>41</td>\n",
       "      <td>Assosia88</td>\n",
       "      <td>20</td>\n",
       "      <td>Female</td>\n",
       "      <td>7</td>\n",
       "      <td>Thorn, Satchel of Dark Souls</td>\n",
       "      <td>1.33</td>\n",
       "      <td>20-24</td>\n",
       "    </tr>\n",
       "    <tr>\n",
       "      <td>55</td>\n",
       "      <td>55</td>\n",
       "      <td>Phaelap26</td>\n",
       "      <td>25</td>\n",
       "      <td>Female</td>\n",
       "      <td>84</td>\n",
       "      <td>Arcane Gem</td>\n",
       "      <td>3.79</td>\n",
       "      <td>25-29</td>\n",
       "    </tr>\n",
       "    <tr>\n",
       "      <td>82</td>\n",
       "      <td>82</td>\n",
       "      <td>Haerithp41</td>\n",
       "      <td>16</td>\n",
       "      <td>Other / Non-Disclosed</td>\n",
       "      <td>160</td>\n",
       "      <td>Azurewrath</td>\n",
       "      <td>4.40</td>\n",
       "      <td>15-19</td>\n",
       "    </tr>\n",
       "    <tr>\n",
       "      <td>111</td>\n",
       "      <td>111</td>\n",
       "      <td>Sundim98</td>\n",
       "      <td>21</td>\n",
       "      <td>Other / Non-Disclosed</td>\n",
       "      <td>41</td>\n",
       "      <td>Orbit</td>\n",
       "      <td>4.75</td>\n",
       "      <td>20-24</td>\n",
       "    </tr>\n",
       "    <tr>\n",
       "      <td>228</td>\n",
       "      <td>228</td>\n",
       "      <td>Jiskirran77</td>\n",
       "      <td>20</td>\n",
       "      <td>Other / Non-Disclosed</td>\n",
       "      <td>80</td>\n",
       "      <td>Dreamsong</td>\n",
       "      <td>3.39</td>\n",
       "      <td>20-24</td>\n",
       "    </tr>\n",
       "  </tbody>\n",
       "</table>\n",
       "</div>"
      ],
      "text/plain": [
       "     Purchase ID             SN  Age                 Gender  Item ID  \\\n",
       "0              0        Lisim78   20                   Male      108   \n",
       "1              1    Lisovynya38   40                   Male      143   \n",
       "2              2     Ithergue48   24                   Male       92   \n",
       "3              3  Chamassasya86   24                   Male      100   \n",
       "4              4      Iskosia90   23                   Male      131   \n",
       "9              9    Chanosian48   35  Other / Non-Disclosed      136   \n",
       "15            15      Lisassa64   21                 Female       98   \n",
       "18            18      Reunasu60   22                 Female       82   \n",
       "22            22   Siarithria38   38  Other / Non-Disclosed       24   \n",
       "38            38       Reulae52   10                 Female      116   \n",
       "41            41      Assosia88   20                 Female        7   \n",
       "55            55      Phaelap26   25                 Female       84   \n",
       "82            82     Haerithp41   16  Other / Non-Disclosed      160   \n",
       "111          111       Sundim98   21  Other / Non-Disclosed       41   \n",
       "228          228    Jiskirran77   20  Other / Non-Disclosed       80   \n",
       "\n",
       "                                     Item Name  Price Age_Group  \n",
       "0    Extraction, Quickblade Of Trembling Hands   3.53     20-24  \n",
       "1                            Frenzied Scimitar   1.56       40+  \n",
       "2                                 Final Critic   4.88     20-24  \n",
       "3                                  Blindscythe   3.27     20-24  \n",
       "4                                         Fury   1.44     20-24  \n",
       "9                 Ghastly Adamantite Protector   3.58     35-39  \n",
       "15                 Deadline, Voice Of Subtlety   2.89     20-24  \n",
       "18                                     Nirvana   4.90     20-24  \n",
       "22                               Warped Fetish   3.81     35-39  \n",
       "38                     Renewed Skeletal Katana   4.18     10-14  \n",
       "41                Thorn, Satchel of Dark Souls   1.33     20-24  \n",
       "55                                  Arcane Gem   3.79     25-29  \n",
       "82                                  Azurewrath   4.40     15-19  \n",
       "111                                      Orbit   4.75     20-24  \n",
       "228                                  Dreamsong   3.39     20-24  "
      ]
     },
     "execution_count": 559,
     "metadata": {},
     "output_type": "execute_result"
    }
   ],
   "source": [
    "# Group original data by Gender\n",
    "groupby_gender = purchase_data.groupby(\"Gender\")\n",
    "groupby_gender.head()"
   ]
  },
  {
   "cell_type": "code",
   "execution_count": 551,
   "metadata": {},
   "outputs": [],
   "source": [
    "# Purchase Count\n",
    "purchase_gender = groupby_gender[\"Purchase ID\"].count()\n",
    "\n",
    "# Average Purchase Price\n",
    "avg_purchase_price_gender = groupby_gender[\"Price\"].mean()\n",
    "\n",
    "# Total Purchase Value\n",
    "avg_purchase_total_gender = groupby_gender [\"Price\"].sum()\n",
    "\n",
    "# Avg Total Purchase per Person\n",
    "avg_purchase_per_person_gender = avg_purchase_total_gender/gender_count_df"
   ]
  },
  {
   "cell_type": "code",
   "execution_count": 552,
   "metadata": {},
   "outputs": [
    {
     "data": {
      "text/html": [
       "<style  type=\"text/css\" >\n",
       "</style><table id=\"T_8007e1b2_1d4e_11ea_bb1b_2cf0ee2f7552\" ><thead>    <tr>        <th class=\"blank level0\" ></th>        <th class=\"col_heading level0 col0\" >Purchase Count</th>        <th class=\"col_heading level0 col1\" >Average Purchase Price</th>        <th class=\"col_heading level0 col2\" >Average Purchase Value</th>        <th class=\"col_heading level0 col3\" >Avg Purchase Total per Person</th>    </tr>    <tr>        <th class=\"index_name level0\" >Gender</th>        <th class=\"blank\" ></th>        <th class=\"blank\" ></th>        <th class=\"blank\" ></th>        <th class=\"blank\" ></th>    </tr></thead><tbody>\n",
       "                <tr>\n",
       "                        <th id=\"T_8007e1b2_1d4e_11ea_bb1b_2cf0ee2f7552level0_row0\" class=\"row_heading level0 row0\" >Female</th>\n",
       "                        <td id=\"T_8007e1b2_1d4e_11ea_bb1b_2cf0ee2f7552row0_col0\" class=\"data row0 col0\" >113</td>\n",
       "                        <td id=\"T_8007e1b2_1d4e_11ea_bb1b_2cf0ee2f7552row0_col1\" class=\"data row0 col1\" >$3.20</td>\n",
       "                        <td id=\"T_8007e1b2_1d4e_11ea_bb1b_2cf0ee2f7552row0_col2\" class=\"data row0 col2\" >$361.94</td>\n",
       "                        <td id=\"T_8007e1b2_1d4e_11ea_bb1b_2cf0ee2f7552row0_col3\" class=\"data row0 col3\" >$4.47</td>\n",
       "            </tr>\n",
       "            <tr>\n",
       "                        <th id=\"T_8007e1b2_1d4e_11ea_bb1b_2cf0ee2f7552level0_row1\" class=\"row_heading level0 row1\" >Male</th>\n",
       "                        <td id=\"T_8007e1b2_1d4e_11ea_bb1b_2cf0ee2f7552row1_col0\" class=\"data row1 col0\" >652</td>\n",
       "                        <td id=\"T_8007e1b2_1d4e_11ea_bb1b_2cf0ee2f7552row1_col1\" class=\"data row1 col1\" >$3.02</td>\n",
       "                        <td id=\"T_8007e1b2_1d4e_11ea_bb1b_2cf0ee2f7552row1_col2\" class=\"data row1 col2\" >$1,967.64</td>\n",
       "                        <td id=\"T_8007e1b2_1d4e_11ea_bb1b_2cf0ee2f7552row1_col3\" class=\"data row1 col3\" >$4.07</td>\n",
       "            </tr>\n",
       "            <tr>\n",
       "                        <th id=\"T_8007e1b2_1d4e_11ea_bb1b_2cf0ee2f7552level0_row2\" class=\"row_heading level0 row2\" >Other / Non-Disclosed</th>\n",
       "                        <td id=\"T_8007e1b2_1d4e_11ea_bb1b_2cf0ee2f7552row2_col0\" class=\"data row2 col0\" >15</td>\n",
       "                        <td id=\"T_8007e1b2_1d4e_11ea_bb1b_2cf0ee2f7552row2_col1\" class=\"data row2 col1\" >$3.35</td>\n",
       "                        <td id=\"T_8007e1b2_1d4e_11ea_bb1b_2cf0ee2f7552row2_col2\" class=\"data row2 col2\" >$50.19</td>\n",
       "                        <td id=\"T_8007e1b2_1d4e_11ea_bb1b_2cf0ee2f7552row2_col3\" class=\"data row2 col3\" >$4.56</td>\n",
       "            </tr>\n",
       "    </tbody></table>"
      ],
      "text/plain": [
       "<pandas.io.formats.style.Styler at 0x1219a2e50>"
      ]
     },
     "execution_count": 552,
     "metadata": {},
     "output_type": "execute_result"
    }
   ],
   "source": [
    "# Create data frame for Purchasing Analysis (Gender)\n",
    "purchasing_analysis_gender = pd.DataFrame({\"Purchase Count\": purchase_gender, \n",
    "                                    \"Average Purchase Price\": avg_purchase_price_gender,\n",
    "                                    \"Average Purchase Value\":avg_purchase_total_gender,\n",
    "                                    \"Avg Purchase Total per Person\": avg_purchase_per_person_gender})\n",
    "purchasing_analysis_gender\n",
    "\n",
    "\n",
    "# Format with currency style\n",
    "purchasing_analysis_gender.style.format({\"Average Purchase Value\":\"${:,.2f}\",\n",
    "                                  \"Average Purchase Price\":\"${:,.2f}\",\n",
    "                                  \"Avg Purchase Total per Person\":\"${:,.2f}\"})"
   ]
  },
  {
   "cell_type": "markdown",
   "metadata": {},
   "source": [
    "## Age Demographics"
   ]
  },
  {
   "cell_type": "markdown",
   "metadata": {},
   "source": [
    "* Establish bins for ages\n",
    "\n",
    "\n",
    "* Categorize the existing players using the age bins. Hint: use pd.cut()\n",
    "\n",
    "\n",
    "* Calculate the numbers and percentages by age group\n",
    "\n",
    "\n",
    "* Create a summary data frame to hold the results\n",
    "\n",
    "\n",
    "* Optional: round the percentage column to two decimal points\n",
    "\n",
    "\n",
    "* Display Age Demographics Table\n"
   ]
  },
  {
   "cell_type": "code",
   "execution_count": 504,
   "metadata": {},
   "outputs": [],
   "source": [
    "# Establish bins for ages\n",
    "age_bins = [0, 9.99, 14.99, 19.99, 24.99, 29.99, 34.99, 39.99, 99.99]\n",
    "          \n",
    "# Create the names for the bins\n",
    "age_range = [\"<10\", \"10-14\", \"15-19\", \"20-24\", \"25-29\", \"30-34\", \"35-39\", \"40+\"]"
   ]
  },
  {
   "cell_type": "code",
   "execution_count": 505,
   "metadata": {},
   "outputs": [
    {
     "data": {
      "text/html": [
       "<div>\n",
       "<style scoped>\n",
       "    .dataframe tbody tr th:only-of-type {\n",
       "        vertical-align: middle;\n",
       "    }\n",
       "\n",
       "    .dataframe tbody tr th {\n",
       "        vertical-align: top;\n",
       "    }\n",
       "\n",
       "    .dataframe thead th {\n",
       "        text-align: right;\n",
       "    }\n",
       "</style>\n",
       "<table border=\"1\" class=\"dataframe\">\n",
       "  <thead>\n",
       "    <tr style=\"text-align: right;\">\n",
       "      <th></th>\n",
       "      <th>Purchase ID</th>\n",
       "      <th>SN</th>\n",
       "      <th>Age</th>\n",
       "      <th>Gender</th>\n",
       "      <th>Item ID</th>\n",
       "      <th>Item Name</th>\n",
       "      <th>Price</th>\n",
       "      <th>Age_Group</th>\n",
       "    </tr>\n",
       "  </thead>\n",
       "  <tbody>\n",
       "    <tr>\n",
       "      <td>0</td>\n",
       "      <td>0</td>\n",
       "      <td>Lisim78</td>\n",
       "      <td>20</td>\n",
       "      <td>Male</td>\n",
       "      <td>108</td>\n",
       "      <td>Extraction, Quickblade Of Trembling Hands</td>\n",
       "      <td>3.53</td>\n",
       "      <td>20-24</td>\n",
       "    </tr>\n",
       "    <tr>\n",
       "      <td>1</td>\n",
       "      <td>1</td>\n",
       "      <td>Lisovynya38</td>\n",
       "      <td>40</td>\n",
       "      <td>Male</td>\n",
       "      <td>143</td>\n",
       "      <td>Frenzied Scimitar</td>\n",
       "      <td>1.56</td>\n",
       "      <td>40+</td>\n",
       "    </tr>\n",
       "    <tr>\n",
       "      <td>2</td>\n",
       "      <td>2</td>\n",
       "      <td>Ithergue48</td>\n",
       "      <td>24</td>\n",
       "      <td>Male</td>\n",
       "      <td>92</td>\n",
       "      <td>Final Critic</td>\n",
       "      <td>4.88</td>\n",
       "      <td>20-24</td>\n",
       "    </tr>\n",
       "    <tr>\n",
       "      <td>3</td>\n",
       "      <td>3</td>\n",
       "      <td>Chamassasya86</td>\n",
       "      <td>24</td>\n",
       "      <td>Male</td>\n",
       "      <td>100</td>\n",
       "      <td>Blindscythe</td>\n",
       "      <td>3.27</td>\n",
       "      <td>20-24</td>\n",
       "    </tr>\n",
       "    <tr>\n",
       "      <td>4</td>\n",
       "      <td>4</td>\n",
       "      <td>Iskosia90</td>\n",
       "      <td>23</td>\n",
       "      <td>Male</td>\n",
       "      <td>131</td>\n",
       "      <td>Fury</td>\n",
       "      <td>1.44</td>\n",
       "      <td>20-24</td>\n",
       "    </tr>\n",
       "    <tr>\n",
       "      <td>...</td>\n",
       "      <td>...</td>\n",
       "      <td>...</td>\n",
       "      <td>...</td>\n",
       "      <td>...</td>\n",
       "      <td>...</td>\n",
       "      <td>...</td>\n",
       "      <td>...</td>\n",
       "      <td>...</td>\n",
       "    </tr>\n",
       "    <tr>\n",
       "      <td>775</td>\n",
       "      <td>775</td>\n",
       "      <td>Aethedru70</td>\n",
       "      <td>21</td>\n",
       "      <td>Female</td>\n",
       "      <td>60</td>\n",
       "      <td>Wolf</td>\n",
       "      <td>3.54</td>\n",
       "      <td>20-24</td>\n",
       "    </tr>\n",
       "    <tr>\n",
       "      <td>776</td>\n",
       "      <td>776</td>\n",
       "      <td>Iral74</td>\n",
       "      <td>21</td>\n",
       "      <td>Male</td>\n",
       "      <td>164</td>\n",
       "      <td>Exiled Doomblade</td>\n",
       "      <td>1.63</td>\n",
       "      <td>20-24</td>\n",
       "    </tr>\n",
       "    <tr>\n",
       "      <td>777</td>\n",
       "      <td>777</td>\n",
       "      <td>Yathecal72</td>\n",
       "      <td>20</td>\n",
       "      <td>Male</td>\n",
       "      <td>67</td>\n",
       "      <td>Celeste, Incarnation of the Corrupted</td>\n",
       "      <td>3.46</td>\n",
       "      <td>20-24</td>\n",
       "    </tr>\n",
       "    <tr>\n",
       "      <td>778</td>\n",
       "      <td>778</td>\n",
       "      <td>Sisur91</td>\n",
       "      <td>7</td>\n",
       "      <td>Male</td>\n",
       "      <td>101</td>\n",
       "      <td>Final Critic</td>\n",
       "      <td>4.19</td>\n",
       "      <td>&lt;10</td>\n",
       "    </tr>\n",
       "    <tr>\n",
       "      <td>779</td>\n",
       "      <td>779</td>\n",
       "      <td>Ennrian78</td>\n",
       "      <td>24</td>\n",
       "      <td>Male</td>\n",
       "      <td>50</td>\n",
       "      <td>Dawn</td>\n",
       "      <td>4.60</td>\n",
       "      <td>20-24</td>\n",
       "    </tr>\n",
       "  </tbody>\n",
       "</table>\n",
       "<p>780 rows × 8 columns</p>\n",
       "</div>"
      ],
      "text/plain": [
       "     Purchase ID             SN  Age  Gender  Item ID  \\\n",
       "0              0        Lisim78   20    Male      108   \n",
       "1              1    Lisovynya38   40    Male      143   \n",
       "2              2     Ithergue48   24    Male       92   \n",
       "3              3  Chamassasya86   24    Male      100   \n",
       "4              4      Iskosia90   23    Male      131   \n",
       "..           ...            ...  ...     ...      ...   \n",
       "775          775     Aethedru70   21  Female       60   \n",
       "776          776         Iral74   21    Male      164   \n",
       "777          777     Yathecal72   20    Male       67   \n",
       "778          778        Sisur91    7    Male      101   \n",
       "779          779      Ennrian78   24    Male       50   \n",
       "\n",
       "                                     Item Name  Price Age_Group  \n",
       "0    Extraction, Quickblade Of Trembling Hands   3.53     20-24  \n",
       "1                            Frenzied Scimitar   1.56       40+  \n",
       "2                                 Final Critic   4.88     20-24  \n",
       "3                                  Blindscythe   3.27     20-24  \n",
       "4                                         Fury   1.44     20-24  \n",
       "..                                         ...    ...       ...  \n",
       "775                                       Wolf   3.54     20-24  \n",
       "776                           Exiled Doomblade   1.63     20-24  \n",
       "777      Celeste, Incarnation of the Corrupted   3.46     20-24  \n",
       "778                               Final Critic   4.19       <10  \n",
       "779                                       Dawn   4.60     20-24  \n",
       "\n",
       "[780 rows x 8 columns]"
      ]
     },
     "execution_count": 505,
     "metadata": {},
     "output_type": "execute_result"
    }
   ],
   "source": [
    "# Categorize the existing players using the age bins.Hint: use pd.cut()\n",
    "purchase_data[\"Age_Group\"] = pd.cut(purchase_data[\"Age\"],age_bins, labels=age_ranges)\n",
    "purchase_data"
   ]
  },
  {
   "cell_type": "code",
   "execution_count": 506,
   "metadata": {},
   "outputs": [
    {
     "data": {
      "text/plain": [
       "Age_Group\n",
       "<10       17\n",
       "10-14     22\n",
       "15-19    107\n",
       "20-24    258\n",
       "25-29     77\n",
       "30-34     52\n",
       "35-39     31\n",
       "40+       12\n",
       "Name: SN, dtype: int64"
      ]
     },
     "execution_count": 506,
     "metadata": {},
     "output_type": "execute_result"
    }
   ],
   "source": [
    "#Grouping data by age grop based on unique players information\n",
    "unique_age_group  = purchase_data.groupby(\"Age_Group\")[\"SN\"].nunique()\n",
    "unique_age_group "
   ]
  },
  {
   "cell_type": "code",
   "execution_count": 514,
   "metadata": {},
   "outputs": [
    {
     "data": {
      "text/plain": [
       "<pandas.core.groupby.generic.DataFrameGroupBy object at 0x10f313790>"
      ]
     },
     "execution_count": 514,
     "metadata": {},
     "output_type": "execute_result"
    }
   ],
   "source": [
    "\n",
    "age_grouped = purchase_data.groupby(\"Age_Group\")\n",
    "age_grouped"
   ]
  },
  {
   "cell_type": "code",
   "execution_count": 558,
   "metadata": {},
   "outputs": [
    {
     "data": {
      "text/plain": [
       "Age_Group\n",
       "<10       17\n",
       "10-14     22\n",
       "15-19    107\n",
       "20-24    258\n",
       "25-29     77\n",
       "30-34     52\n",
       "35-39     31\n",
       "40+       12\n",
       "Name: SN, dtype: int64"
      ]
     },
     "execution_count": 558,
     "metadata": {},
     "output_type": "execute_result"
    }
   ],
   "source": [
    "# Count total unique players by age group\n",
    "total_count_age = age_grouped[\"SN\"].nunique()\n",
    "total_count_age"
   ]
  },
  {
   "cell_type": "code",
   "execution_count": 516,
   "metadata": {},
   "outputs": [
    {
     "data": {
      "text/html": [
       "<style  type=\"text/css\" >\n",
       "</style><table id=\"T_20b31528_1cbe_11ea_bb1b_2cf0ee2f7552\" ><thead>    <tr>        <th class=\"blank level0\" ></th>        <th class=\"col_heading level0 col0\" >Total Count</th>        <th class=\"col_heading level0 col1\" >Percentage of Players</th>    </tr>    <tr>        <th class=\"index_name level0\" >Age_Group</th>        <th class=\"blank\" ></th>        <th class=\"blank\" ></th>    </tr></thead><tbody>\n",
       "                <tr>\n",
       "                        <th id=\"T_20b31528_1cbe_11ea_bb1b_2cf0ee2f7552level0_row0\" class=\"row_heading level0 row0\" ><10</th>\n",
       "                        <td id=\"T_20b31528_1cbe_11ea_bb1b_2cf0ee2f7552row0_col0\" class=\"data row0 col0\" >17</td>\n",
       "                        <td id=\"T_20b31528_1cbe_11ea_bb1b_2cf0ee2f7552row0_col1\" class=\"data row0 col1\" >2.95%</td>\n",
       "            </tr>\n",
       "            <tr>\n",
       "                        <th id=\"T_20b31528_1cbe_11ea_bb1b_2cf0ee2f7552level0_row1\" class=\"row_heading level0 row1\" >10-14</th>\n",
       "                        <td id=\"T_20b31528_1cbe_11ea_bb1b_2cf0ee2f7552row1_col0\" class=\"data row1 col0\" >22</td>\n",
       "                        <td id=\"T_20b31528_1cbe_11ea_bb1b_2cf0ee2f7552row1_col1\" class=\"data row1 col1\" >3.82%</td>\n",
       "            </tr>\n",
       "            <tr>\n",
       "                        <th id=\"T_20b31528_1cbe_11ea_bb1b_2cf0ee2f7552level0_row2\" class=\"row_heading level0 row2\" >15-19</th>\n",
       "                        <td id=\"T_20b31528_1cbe_11ea_bb1b_2cf0ee2f7552row2_col0\" class=\"data row2 col0\" >107</td>\n",
       "                        <td id=\"T_20b31528_1cbe_11ea_bb1b_2cf0ee2f7552row2_col1\" class=\"data row2 col1\" >18.58%</td>\n",
       "            </tr>\n",
       "            <tr>\n",
       "                        <th id=\"T_20b31528_1cbe_11ea_bb1b_2cf0ee2f7552level0_row3\" class=\"row_heading level0 row3\" >20-24</th>\n",
       "                        <td id=\"T_20b31528_1cbe_11ea_bb1b_2cf0ee2f7552row3_col0\" class=\"data row3 col0\" >258</td>\n",
       "                        <td id=\"T_20b31528_1cbe_11ea_bb1b_2cf0ee2f7552row3_col1\" class=\"data row3 col1\" >44.79%</td>\n",
       "            </tr>\n",
       "            <tr>\n",
       "                        <th id=\"T_20b31528_1cbe_11ea_bb1b_2cf0ee2f7552level0_row4\" class=\"row_heading level0 row4\" >25-29</th>\n",
       "                        <td id=\"T_20b31528_1cbe_11ea_bb1b_2cf0ee2f7552row4_col0\" class=\"data row4 col0\" >77</td>\n",
       "                        <td id=\"T_20b31528_1cbe_11ea_bb1b_2cf0ee2f7552row4_col1\" class=\"data row4 col1\" >13.37%</td>\n",
       "            </tr>\n",
       "            <tr>\n",
       "                        <th id=\"T_20b31528_1cbe_11ea_bb1b_2cf0ee2f7552level0_row5\" class=\"row_heading level0 row5\" >30-34</th>\n",
       "                        <td id=\"T_20b31528_1cbe_11ea_bb1b_2cf0ee2f7552row5_col0\" class=\"data row5 col0\" >52</td>\n",
       "                        <td id=\"T_20b31528_1cbe_11ea_bb1b_2cf0ee2f7552row5_col1\" class=\"data row5 col1\" >9.03%</td>\n",
       "            </tr>\n",
       "            <tr>\n",
       "                        <th id=\"T_20b31528_1cbe_11ea_bb1b_2cf0ee2f7552level0_row6\" class=\"row_heading level0 row6\" >35-39</th>\n",
       "                        <td id=\"T_20b31528_1cbe_11ea_bb1b_2cf0ee2f7552row6_col0\" class=\"data row6 col0\" >31</td>\n",
       "                        <td id=\"T_20b31528_1cbe_11ea_bb1b_2cf0ee2f7552row6_col1\" class=\"data row6 col1\" >5.38%</td>\n",
       "            </tr>\n",
       "            <tr>\n",
       "                        <th id=\"T_20b31528_1cbe_11ea_bb1b_2cf0ee2f7552level0_row7\" class=\"row_heading level0 row7\" >40+</th>\n",
       "                        <td id=\"T_20b31528_1cbe_11ea_bb1b_2cf0ee2f7552row7_col0\" class=\"data row7 col0\" >12</td>\n",
       "                        <td id=\"T_20b31528_1cbe_11ea_bb1b_2cf0ee2f7552row7_col1\" class=\"data row7 col1\" >2.08%</td>\n",
       "            </tr>\n",
       "    </tbody></table>"
      ],
      "text/plain": [
       "<pandas.io.formats.style.Styler at 0x10f316950>"
      ]
     },
     "execution_count": 516,
     "metadata": {},
     "output_type": "execute_result"
    }
   ],
   "source": [
    "# Calculate percentages by age group\n",
    "percentage_by_age = (total_count_age/576) \n",
    "\n",
    "# Create data frame \n",
    "age_demographics = pd.DataFrame({\"Total Count\": total_count_age, \"Percentage of Players\": percentage_by_age})\n",
    "\n",
    "# Formatting percentage with two decimal places \n",
    "age_demographics.style.format({\"Percentage of Players\":\"{:,.2%}\"})\n"
   ]
  },
  {
   "cell_type": "markdown",
   "metadata": {},
   "source": [
    "## Purchasing Analysis (Age)"
   ]
  },
  {
   "cell_type": "markdown",
   "metadata": {},
   "source": [
    "* Bin the purchase_data data frame by age\n",
    "\n",
    "\n",
    "* Run basic calculations to obtain purchase count, avg. purchase price, avg. purchase total per person etc. in the table below\n",
    "\n",
    "\n",
    "* Create a summary data frame to hold the results\n",
    "\n",
    "\n",
    "* Optional: give the displayed data cleaner formatting\n",
    "\n",
    "\n",
    "* Display the summary data frame"
   ]
  },
  {
   "cell_type": "code",
   "execution_count": 518,
   "metadata": {},
   "outputs": [
    {
     "data": {
      "text/html": [
       "<style  type=\"text/css\" >\n",
       "</style><table id=\"T_5b95369e_1cbe_11ea_bb1b_2cf0ee2f7552\" ><thead>    <tr>        <th class=\"blank level0\" ></th>        <th class=\"col_heading level0 col0\" >Purchase Count</th>        <th class=\"col_heading level0 col1\" >Average Purchase Price</th>        <th class=\"col_heading level0 col2\" >Total Purchase Value</th>        <th class=\"col_heading level0 col3\" >Average Purchase Total per Person</th>    </tr>    <tr>        <th class=\"index_name level0\" >Age_Group</th>        <th class=\"blank\" ></th>        <th class=\"blank\" ></th>        <th class=\"blank\" ></th>        <th class=\"blank\" ></th>    </tr></thead><tbody>\n",
       "                <tr>\n",
       "                        <th id=\"T_5b95369e_1cbe_11ea_bb1b_2cf0ee2f7552level0_row0\" class=\"row_heading level0 row0\" ><10</th>\n",
       "                        <td id=\"T_5b95369e_1cbe_11ea_bb1b_2cf0ee2f7552row0_col0\" class=\"data row0 col0\" >23</td>\n",
       "                        <td id=\"T_5b95369e_1cbe_11ea_bb1b_2cf0ee2f7552row0_col1\" class=\"data row0 col1\" >$3.35</td>\n",
       "                        <td id=\"T_5b95369e_1cbe_11ea_bb1b_2cf0ee2f7552row0_col2\" class=\"data row0 col2\" >$77.13</td>\n",
       "                        <td id=\"T_5b95369e_1cbe_11ea_bb1b_2cf0ee2f7552row0_col3\" class=\"data row0 col3\" >$4.54</td>\n",
       "            </tr>\n",
       "            <tr>\n",
       "                        <th id=\"T_5b95369e_1cbe_11ea_bb1b_2cf0ee2f7552level0_row1\" class=\"row_heading level0 row1\" >10-14</th>\n",
       "                        <td id=\"T_5b95369e_1cbe_11ea_bb1b_2cf0ee2f7552row1_col0\" class=\"data row1 col0\" >28</td>\n",
       "                        <td id=\"T_5b95369e_1cbe_11ea_bb1b_2cf0ee2f7552row1_col1\" class=\"data row1 col1\" >$2.96</td>\n",
       "                        <td id=\"T_5b95369e_1cbe_11ea_bb1b_2cf0ee2f7552row1_col2\" class=\"data row1 col2\" >$82.78</td>\n",
       "                        <td id=\"T_5b95369e_1cbe_11ea_bb1b_2cf0ee2f7552row1_col3\" class=\"data row1 col3\" >$3.76</td>\n",
       "            </tr>\n",
       "            <tr>\n",
       "                        <th id=\"T_5b95369e_1cbe_11ea_bb1b_2cf0ee2f7552level0_row2\" class=\"row_heading level0 row2\" >15-19</th>\n",
       "                        <td id=\"T_5b95369e_1cbe_11ea_bb1b_2cf0ee2f7552row2_col0\" class=\"data row2 col0\" >136</td>\n",
       "                        <td id=\"T_5b95369e_1cbe_11ea_bb1b_2cf0ee2f7552row2_col1\" class=\"data row2 col1\" >$3.04</td>\n",
       "                        <td id=\"T_5b95369e_1cbe_11ea_bb1b_2cf0ee2f7552row2_col2\" class=\"data row2 col2\" >$412.89</td>\n",
       "                        <td id=\"T_5b95369e_1cbe_11ea_bb1b_2cf0ee2f7552row2_col3\" class=\"data row2 col3\" >$3.86</td>\n",
       "            </tr>\n",
       "            <tr>\n",
       "                        <th id=\"T_5b95369e_1cbe_11ea_bb1b_2cf0ee2f7552level0_row3\" class=\"row_heading level0 row3\" >20-24</th>\n",
       "                        <td id=\"T_5b95369e_1cbe_11ea_bb1b_2cf0ee2f7552row3_col0\" class=\"data row3 col0\" >365</td>\n",
       "                        <td id=\"T_5b95369e_1cbe_11ea_bb1b_2cf0ee2f7552row3_col1\" class=\"data row3 col1\" >$3.05</td>\n",
       "                        <td id=\"T_5b95369e_1cbe_11ea_bb1b_2cf0ee2f7552row3_col2\" class=\"data row3 col2\" >$1,114.06</td>\n",
       "                        <td id=\"T_5b95369e_1cbe_11ea_bb1b_2cf0ee2f7552row3_col3\" class=\"data row3 col3\" >$4.32</td>\n",
       "            </tr>\n",
       "            <tr>\n",
       "                        <th id=\"T_5b95369e_1cbe_11ea_bb1b_2cf0ee2f7552level0_row4\" class=\"row_heading level0 row4\" >25-29</th>\n",
       "                        <td id=\"T_5b95369e_1cbe_11ea_bb1b_2cf0ee2f7552row4_col0\" class=\"data row4 col0\" >101</td>\n",
       "                        <td id=\"T_5b95369e_1cbe_11ea_bb1b_2cf0ee2f7552row4_col1\" class=\"data row4 col1\" >$2.90</td>\n",
       "                        <td id=\"T_5b95369e_1cbe_11ea_bb1b_2cf0ee2f7552row4_col2\" class=\"data row4 col2\" >$293.00</td>\n",
       "                        <td id=\"T_5b95369e_1cbe_11ea_bb1b_2cf0ee2f7552row4_col3\" class=\"data row4 col3\" >$3.81</td>\n",
       "            </tr>\n",
       "            <tr>\n",
       "                        <th id=\"T_5b95369e_1cbe_11ea_bb1b_2cf0ee2f7552level0_row5\" class=\"row_heading level0 row5\" >30-34</th>\n",
       "                        <td id=\"T_5b95369e_1cbe_11ea_bb1b_2cf0ee2f7552row5_col0\" class=\"data row5 col0\" >73</td>\n",
       "                        <td id=\"T_5b95369e_1cbe_11ea_bb1b_2cf0ee2f7552row5_col1\" class=\"data row5 col1\" >$2.93</td>\n",
       "                        <td id=\"T_5b95369e_1cbe_11ea_bb1b_2cf0ee2f7552row5_col2\" class=\"data row5 col2\" >$214.00</td>\n",
       "                        <td id=\"T_5b95369e_1cbe_11ea_bb1b_2cf0ee2f7552row5_col3\" class=\"data row5 col3\" >$4.12</td>\n",
       "            </tr>\n",
       "            <tr>\n",
       "                        <th id=\"T_5b95369e_1cbe_11ea_bb1b_2cf0ee2f7552level0_row6\" class=\"row_heading level0 row6\" >35-39</th>\n",
       "                        <td id=\"T_5b95369e_1cbe_11ea_bb1b_2cf0ee2f7552row6_col0\" class=\"data row6 col0\" >41</td>\n",
       "                        <td id=\"T_5b95369e_1cbe_11ea_bb1b_2cf0ee2f7552row6_col1\" class=\"data row6 col1\" >$3.60</td>\n",
       "                        <td id=\"T_5b95369e_1cbe_11ea_bb1b_2cf0ee2f7552row6_col2\" class=\"data row6 col2\" >$147.67</td>\n",
       "                        <td id=\"T_5b95369e_1cbe_11ea_bb1b_2cf0ee2f7552row6_col3\" class=\"data row6 col3\" >$4.76</td>\n",
       "            </tr>\n",
       "            <tr>\n",
       "                        <th id=\"T_5b95369e_1cbe_11ea_bb1b_2cf0ee2f7552level0_row7\" class=\"row_heading level0 row7\" >40+</th>\n",
       "                        <td id=\"T_5b95369e_1cbe_11ea_bb1b_2cf0ee2f7552row7_col0\" class=\"data row7 col0\" >13</td>\n",
       "                        <td id=\"T_5b95369e_1cbe_11ea_bb1b_2cf0ee2f7552row7_col1\" class=\"data row7 col1\" >$2.94</td>\n",
       "                        <td id=\"T_5b95369e_1cbe_11ea_bb1b_2cf0ee2f7552row7_col2\" class=\"data row7 col2\" >$38.24</td>\n",
       "                        <td id=\"T_5b95369e_1cbe_11ea_bb1b_2cf0ee2f7552row7_col3\" class=\"data row7 col3\" >$3.19</td>\n",
       "            </tr>\n",
       "    </tbody></table>"
      ],
      "text/plain": [
       "<pandas.io.formats.style.Styler at 0x1218373d0>"
      ]
     },
     "execution_count": 518,
     "metadata": {},
     "output_type": "execute_result"
    }
   ],
   "source": [
    "# Count purchases by age group\n",
    "purchase_by_age = age_grouped[\"Purchase ID\"].count()\n",
    "# Obtain average purchase price by age group \n",
    "avg_purchase_price_age = age_grouped[\"Price\"].mean()\n",
    "\n",
    "# Calculate total purchase value by age group \n",
    "total_purchase_value = age_grouped[\"Price\"].sum()\n",
    "\n",
    "# Calculate the average purchase per person in the age group \n",
    "avg_purchase_per_person_age = total_purchase_value/total_count_age\n",
    "\n",
    "# Create data frame with obtained values\n",
    "age_demographics = pd.DataFrame({\"Purchase Count\": purchase_by_age,\n",
    "                                 \"Average Purchase Price\": avg_purchase_price_age,\n",
    "                                 \"Total Purchase Value\":total_purchase_value,\n",
    "                                 \"Average Purchase Total per Person\": avg_purchase_per_person_age})\n",
    "\n",
    "# Format with currency style\n",
    "age_demographics.style.format({\"Average Purchase Price\":\"${:,.2f}\",\n",
    "                               \"Total Purchase Value\":\"${:,.2f}\",\n",
    "                               \"Average Purchase Total per Person\":\"${:,.2f}\"})"
   ]
  },
  {
   "cell_type": "markdown",
   "metadata": {},
   "source": [
    "## Top Spenders"
   ]
  },
  {
   "cell_type": "markdown",
   "metadata": {},
   "source": [
    "* Run basic calculations to obtain the results in the table below\n",
    "\n",
    "\n",
    "* Create a summary data frame to hold the results\n",
    "\n",
    "\n",
    "* Sort the total purchase value column in descending order\n",
    "\n",
    "\n",
    "* Optional: give the displayed data cleaner formatting\n",
    "\n",
    "\n",
    "* Display a preview of the summary data frame\n",
    "\n"
   ]
  },
  {
   "cell_type": "code",
   "execution_count": 565,
   "metadata": {},
   "outputs": [
    {
     "data": {
      "text/html": [
       "<style  type=\"text/css\" >\n",
       "</style><table id=\"T_0de1e1d8_1ea1_11ea_bb1b_2cf0ee2f7552\" ><thead>    <tr>        <th class=\"blank level0\" ></th>        <th class=\"col_heading level0 col0\" >Purchase Count</th>        <th class=\"col_heading level0 col1\" >Average Purchase Price</th>        <th class=\"col_heading level0 col2\" >Total Purchase Value</th>    </tr>    <tr>        <th class=\"index_name level0\" >SN</th>        <th class=\"blank\" ></th>        <th class=\"blank\" ></th>        <th class=\"blank\" ></th>    </tr></thead><tbody>\n",
       "                <tr>\n",
       "                        <th id=\"T_0de1e1d8_1ea1_11ea_bb1b_2cf0ee2f7552level0_row0\" class=\"row_heading level0 row0\" >Adairialis76</th>\n",
       "                        <td id=\"T_0de1e1d8_1ea1_11ea_bb1b_2cf0ee2f7552row0_col0\" class=\"data row0 col0\" >1</td>\n",
       "                        <td id=\"T_0de1e1d8_1ea1_11ea_bb1b_2cf0ee2f7552row0_col1\" class=\"data row0 col1\" >$2.28</td>\n",
       "                        <td id=\"T_0de1e1d8_1ea1_11ea_bb1b_2cf0ee2f7552row0_col2\" class=\"data row0 col2\" >$273.00</td>\n",
       "            </tr>\n",
       "            <tr>\n",
       "                        <th id=\"T_0de1e1d8_1ea1_11ea_bb1b_2cf0ee2f7552level0_row1\" class=\"row_heading level0 row1\" >Adastirin33</th>\n",
       "                        <td id=\"T_0de1e1d8_1ea1_11ea_bb1b_2cf0ee2f7552row1_col0\" class=\"data row1 col0\" >1</td>\n",
       "                        <td id=\"T_0de1e1d8_1ea1_11ea_bb1b_2cf0ee2f7552row1_col1\" class=\"data row1 col1\" >$4.48</td>\n",
       "                        <td id=\"T_0de1e1d8_1ea1_11ea_bb1b_2cf0ee2f7552row1_col2\" class=\"data row1 col2\" >$273.00</td>\n",
       "            </tr>\n",
       "            <tr>\n",
       "                        <th id=\"T_0de1e1d8_1ea1_11ea_bb1b_2cf0ee2f7552level0_row2\" class=\"row_heading level0 row2\" >Marim28</th>\n",
       "                        <td id=\"T_0de1e1d8_1ea1_11ea_bb1b_2cf0ee2f7552row2_col0\" class=\"data row2 col0\" >2</td>\n",
       "                        <td id=\"T_0de1e1d8_1ea1_11ea_bb1b_2cf0ee2f7552row2_col1\" class=\"data row2 col1\" >$2.17</td>\n",
       "                        <td id=\"T_0de1e1d8_1ea1_11ea_bb1b_2cf0ee2f7552row2_col2\" class=\"data row2 col2\" >$273.00</td>\n",
       "            </tr>\n",
       "            <tr>\n",
       "                        <th id=\"T_0de1e1d8_1ea1_11ea_bb1b_2cf0ee2f7552level0_row3\" class=\"row_heading level0 row3\" >Marirrasta50</th>\n",
       "                        <td id=\"T_0de1e1d8_1ea1_11ea_bb1b_2cf0ee2f7552row3_col0\" class=\"data row3 col0\" >1</td>\n",
       "                        <td id=\"T_0de1e1d8_1ea1_11ea_bb1b_2cf0ee2f7552row3_col1\" class=\"data row3 col1\" >$4.66</td>\n",
       "                        <td id=\"T_0de1e1d8_1ea1_11ea_bb1b_2cf0ee2f7552row3_col2\" class=\"data row3 col2\" >$273.00</td>\n",
       "            </tr>\n",
       "            <tr>\n",
       "                        <th id=\"T_0de1e1d8_1ea1_11ea_bb1b_2cf0ee2f7552level0_row4\" class=\"row_heading level0 row4\" >Marjask87</th>\n",
       "                        <td id=\"T_0de1e1d8_1ea1_11ea_bb1b_2cf0ee2f7552row4_col0\" class=\"data row4 col0\" >1</td>\n",
       "                        <td id=\"T_0de1e1d8_1ea1_11ea_bb1b_2cf0ee2f7552row4_col1\" class=\"data row4 col1\" >$1.44</td>\n",
       "                        <td id=\"T_0de1e1d8_1ea1_11ea_bb1b_2cf0ee2f7552row4_col2\" class=\"data row4 col2\" >$273.00</td>\n",
       "            </tr>\n",
       "    </tbody></table>"
      ],
      "text/plain": [
       "<pandas.io.formats.style.Styler at 0x121661410>"
      ]
     },
     "execution_count": 565,
     "metadata": {},
     "output_type": "execute_result"
    }
   ],
   "source": [
    "# Group purchase data by screen names\n",
    "spender_stats = purchase_data.groupby(\"SN\")\n",
    "\n",
    "# Count the total purchases by name\n",
    "purchase_count_spender = spender_stats[\"Purchase ID\"].count()\n",
    "\n",
    "# Calculate the average purchase by name \n",
    "avg_purchase_price_spender = spender_stats[\"Price\"].mean()\n",
    "\n",
    "# Calculate purchase total \n",
    "purchase_total_spender = spender_stats[\"Price\"].sum().nunique()\n",
    "# Create data frame with obtained values\n",
    "top_spenders = pd.DataFrame({\"Purchase Count\": purchase_count_spender,\n",
    "                             \"Average Purchase Price\": avg_purchase_price_spender,\n",
    "                             \"Total Purchase Value\":purchase_total_spender})\n",
    "\n",
    "# Sort in descending order to obtain top 5 spender names \n",
    "formatted_spenders = top_spenders.sort_values([\"Total Purchase Value\"], ascending=False).head()\n",
    "\n",
    "# Format with currency style\n",
    "formatted_spenders.style.format({\"Average Purchase Total\":\"${:,.2f}\",\n",
    "                                 \"Average Purchase Price\":\"${:,.2f}\", \n",
    "                                 \"Total Purchase Value\":\"${:,.2f}\"})\n"
   ]
  },
  {
   "cell_type": "code",
   "execution_count": 605,
   "metadata": {},
   "outputs": [
    {
     "name": "stdout",
     "output_type": "stream",
     "text": [
      "              Purchase Count  Average Purchase Price  Total Purchase Value\n",
      "SN                                                                        \n",
      "Adairialis76               1                    2.28                  2.28\n",
      "Adastirin33                1                    4.48                  4.48\n",
      "Aeda94                     1                    4.91                  4.91\n",
      "Aela59                     1                    4.32                  4.32\n",
      "Aelaria33                  1                    1.79                  1.79\n"
     ]
    },
    {
     "data": {
      "text/html": [
       "<div>\n",
       "<style scoped>\n",
       "    .dataframe tbody tr th:only-of-type {\n",
       "        vertical-align: middle;\n",
       "    }\n",
       "\n",
       "    .dataframe tbody tr th {\n",
       "        vertical-align: top;\n",
       "    }\n",
       "\n",
       "    .dataframe thead th {\n",
       "        text-align: right;\n",
       "    }\n",
       "</style>\n",
       "<table border=\"1\" class=\"dataframe\">\n",
       "  <thead>\n",
       "    <tr style=\"text-align: right;\">\n",
       "      <th></th>\n",
       "      <th>Purchase Count</th>\n",
       "      <th>Average Purchase Price</th>\n",
       "      <th>Total Purchase Value</th>\n",
       "    </tr>\n",
       "    <tr>\n",
       "      <th>SN</th>\n",
       "      <th></th>\n",
       "      <th></th>\n",
       "      <th></th>\n",
       "    </tr>\n",
       "  </thead>\n",
       "  <tbody>\n",
       "    <tr>\n",
       "      <td>Adairialis76</td>\n",
       "      <td>1</td>\n",
       "      <td>2.28</td>\n",
       "      <td>2.28</td>\n",
       "    </tr>\n",
       "    <tr>\n",
       "      <td>Adastirin33</td>\n",
       "      <td>1</td>\n",
       "      <td>4.48</td>\n",
       "      <td>4.48</td>\n",
       "    </tr>\n",
       "    <tr>\n",
       "      <td>Aeda94</td>\n",
       "      <td>1</td>\n",
       "      <td>4.91</td>\n",
       "      <td>4.91</td>\n",
       "    </tr>\n",
       "    <tr>\n",
       "      <td>Aela59</td>\n",
       "      <td>1</td>\n",
       "      <td>4.32</td>\n",
       "      <td>4.32</td>\n",
       "    </tr>\n",
       "    <tr>\n",
       "      <td>Aelaria33</td>\n",
       "      <td>1</td>\n",
       "      <td>1.79</td>\n",
       "      <td>1.79</td>\n",
       "    </tr>\n",
       "  </tbody>\n",
       "</table>\n",
       "</div>"
      ],
      "text/plain": [
       "              Purchase Count  Average Purchase Price  Total Purchase Value\n",
       "SN                                                                        \n",
       "Adairialis76               1                    2.28                  2.28\n",
       "Adastirin33                1                    4.48                  4.48\n",
       "Aeda94                     1                    4.91                  4.91\n",
       "Aela59                     1                    4.32                  4.32\n",
       "Aelaria33                  1                    1.79                  1.79"
      ]
     },
     "execution_count": 605,
     "metadata": {},
     "output_type": "execute_result"
    }
   ],
   "source": [
    "players_purchase_count_df = purchase_data.groupby(\"SN\").count()[\"Price\"].rename(\"Purchase Count\")\n",
    "players_average_price_df = purchase_data.groupby(\"SN\").mean()[\"Price\"].rename(\"Average Purchase Price\")\n",
    "players_total_df = purchase_data.groupby(\"SN\").sum()[\"Price\"].rename(\"Total Purchase Value\")\n",
    "\n",
    "#Convert to DataFrame.\n",
    "\n",
    "total_user_data_df = pd.DataFrame({\"Purchase Count\":players_purchase_count_df,\n",
    "                                   \"Average Purchase Price\": players_average_price_df,\n",
    "                                   \"Total Purchase Value\": players_total_df})\n",
    "print(total_user_data_df.head())\n",
    "\n",
    "total_user_data_df.head()\n",
    "\n",
    "\n",
    "# Sort table to show the top five spenders.\n",
    "\n",
    "#top_five_spenders = total_user_data_df.sort_values(\"Total Purchase Value\", ascending=False)\n",
    "\n",
    "\n",
    "#top_five_spenders = top_five_spenders.head()\n",
    "\n",
    "# Format with currency style\n",
    "#top_five = top_five_spenders.style.format({\"Average Purchase Price\":\"${:,.2f}\",\n",
    "                            #   \"Total Purchase Value\":\"${:,.2f}\"})\n",
    "\n",
    "#top_five\n"
   ]
  },
  {
   "cell_type": "markdown",
   "metadata": {},
   "source": [
    "### Most Popular Items"
   ]
  },
  {
   "cell_type": "markdown",
   "metadata": {},
   "source": [
    "* Retrieve the Item ID, Item Name, and Item Price columns\n",
    "\n",
    "\n",
    "* Group by Item ID and Item Name. Perform calculations to obtain purchase count, item price, and total purchase value\n",
    "\n",
    "\n",
    "* Create a summary data frame to hold the results\n",
    "\n",
    "\n",
    "* Sort the purchase count column in descending order\n",
    "\n",
    "\n",
    "* Optional: give the displayed data cleaner formatting\n",
    "\n",
    "\n",
    "* Display a preview of the summary data frame\n",
    "\n"
   ]
  },
  {
   "cell_type": "code",
   "execution_count": 310,
   "metadata": {},
   "outputs": [
    {
     "data": {
      "text/html": [
       "<style  type=\"text/css\" >\n",
       "</style><table id=\"T_319f968c_1cae_11ea_bb1b_2cf0ee2f7552\" ><thead>    <tr>        <th class=\"blank\" ></th>        <th class=\"blank level0\" ></th>        <th class=\"col_heading level0 col0\" >Purchase Count</th>        <th class=\"col_heading level0 col1\" >Item Price</th>        <th class=\"col_heading level0 col2\" >Total Purchase Value</th>    </tr>    <tr>        <th class=\"index_name level0\" >Item ID</th>        <th class=\"index_name level1\" >Item Name</th>        <th class=\"blank\" ></th>        <th class=\"blank\" ></th>        <th class=\"blank\" ></th>    </tr></thead><tbody>\n",
       "                <tr>\n",
       "                        <th id=\"T_319f968c_1cae_11ea_bb1b_2cf0ee2f7552level0_row0\" class=\"row_heading level0 row0\" >178</th>\n",
       "                        <th id=\"T_319f968c_1cae_11ea_bb1b_2cf0ee2f7552level1_row0\" class=\"row_heading level1 row0\" >Oathbreaker, Last Hope of the Breaking Storm</th>\n",
       "                        <td id=\"T_319f968c_1cae_11ea_bb1b_2cf0ee2f7552row0_col0\" class=\"data row0 col0\" >12</td>\n",
       "                        <td id=\"T_319f968c_1cae_11ea_bb1b_2cf0ee2f7552row0_col1\" class=\"data row0 col1\" >$4.23</td>\n",
       "                        <td id=\"T_319f968c_1cae_11ea_bb1b_2cf0ee2f7552row0_col2\" class=\"data row0 col2\" >$50.76</td>\n",
       "            </tr>\n",
       "            <tr>\n",
       "                        <th id=\"T_319f968c_1cae_11ea_bb1b_2cf0ee2f7552level0_row1\" class=\"row_heading level0 row1\" >145</th>\n",
       "                        <th id=\"T_319f968c_1cae_11ea_bb1b_2cf0ee2f7552level1_row1\" class=\"row_heading level1 row1\" >Fiery Glass Crusader</th>\n",
       "                        <td id=\"T_319f968c_1cae_11ea_bb1b_2cf0ee2f7552row1_col0\" class=\"data row1 col0\" >9</td>\n",
       "                        <td id=\"T_319f968c_1cae_11ea_bb1b_2cf0ee2f7552row1_col1\" class=\"data row1 col1\" >$4.58</td>\n",
       "                        <td id=\"T_319f968c_1cae_11ea_bb1b_2cf0ee2f7552row1_col2\" class=\"data row1 col2\" >$41.22</td>\n",
       "            </tr>\n",
       "            <tr>\n",
       "                        <th id=\"T_319f968c_1cae_11ea_bb1b_2cf0ee2f7552level0_row2\" class=\"row_heading level0 row2\" >108</th>\n",
       "                        <th id=\"T_319f968c_1cae_11ea_bb1b_2cf0ee2f7552level1_row2\" class=\"row_heading level1 row2\" >Extraction, Quickblade Of Trembling Hands</th>\n",
       "                        <td id=\"T_319f968c_1cae_11ea_bb1b_2cf0ee2f7552row2_col0\" class=\"data row2 col0\" >9</td>\n",
       "                        <td id=\"T_319f968c_1cae_11ea_bb1b_2cf0ee2f7552row2_col1\" class=\"data row2 col1\" >$3.53</td>\n",
       "                        <td id=\"T_319f968c_1cae_11ea_bb1b_2cf0ee2f7552row2_col2\" class=\"data row2 col2\" >$31.77</td>\n",
       "            </tr>\n",
       "            <tr>\n",
       "                        <th id=\"T_319f968c_1cae_11ea_bb1b_2cf0ee2f7552level0_row3\" class=\"row_heading level0 row3\" >82</th>\n",
       "                        <th id=\"T_319f968c_1cae_11ea_bb1b_2cf0ee2f7552level1_row3\" class=\"row_heading level1 row3\" >Nirvana</th>\n",
       "                        <td id=\"T_319f968c_1cae_11ea_bb1b_2cf0ee2f7552row3_col0\" class=\"data row3 col0\" >9</td>\n",
       "                        <td id=\"T_319f968c_1cae_11ea_bb1b_2cf0ee2f7552row3_col1\" class=\"data row3 col1\" >$4.90</td>\n",
       "                        <td id=\"T_319f968c_1cae_11ea_bb1b_2cf0ee2f7552row3_col2\" class=\"data row3 col2\" >$44.10</td>\n",
       "            </tr>\n",
       "            <tr>\n",
       "                        <th id=\"T_319f968c_1cae_11ea_bb1b_2cf0ee2f7552level0_row4\" class=\"row_heading level0 row4\" >19</th>\n",
       "                        <th id=\"T_319f968c_1cae_11ea_bb1b_2cf0ee2f7552level1_row4\" class=\"row_heading level1 row4\" >Pursuit, Cudgel of Necromancy</th>\n",
       "                        <td id=\"T_319f968c_1cae_11ea_bb1b_2cf0ee2f7552row4_col0\" class=\"data row4 col0\" >8</td>\n",
       "                        <td id=\"T_319f968c_1cae_11ea_bb1b_2cf0ee2f7552row4_col1\" class=\"data row4 col1\" >$1.02</td>\n",
       "                        <td id=\"T_319f968c_1cae_11ea_bb1b_2cf0ee2f7552row4_col2\" class=\"data row4 col2\" >$8.16</td>\n",
       "            </tr>\n",
       "    </tbody></table>"
      ],
      "text/plain": [
       "<pandas.io.formats.style.Styler at 0x1217683d0>"
      ]
     },
     "execution_count": 310,
     "metadata": {},
     "output_type": "execute_result"
    }
   ],
   "source": [
    "# Create new data frame with items related information \n",
    "items = purchase_data[[\"Item ID\", \"Item Name\", \"Price\"]]\n",
    "\n",
    "# Group the item data by item id and item name \n",
    "item_stats = items.groupby([\"Item ID\",\"Item Name\"])\n",
    "\n",
    "# Count the number of times an item has been purchased \n",
    "purchase_count_item = item_stats[\"Price\"].count()\n",
    "\n",
    "# Calcualte the purchase value per item \n",
    "purchase_value = (item_stats[\"Price\"].sum()) \n",
    "\n",
    "# Find individual item price\n",
    "item_price = purchase_value/purchase_count_item\n",
    "\n",
    "# Create data frame with obtained values\n",
    "most_popular_items = pd.DataFrame({\"Purchase Count\": purchase_count_item, \n",
    "                                   \"Item Price\": item_price,\n",
    "                                   \"Total Purchase Value\":purchase_value})\n",
    "\n",
    "# Sort in descending order to obtain top spender names and provide top 5 item names\n",
    "popular_formatted = most_popular_items.sort_values([\"Purchase Count\"], ascending=False).head()\n",
    "\n",
    "# Format with currency style\n",
    "popular_formatted.style.format({\"Item Price\":\"${:,.2f}\",\n",
    "                                \"Total Purchase Value\":\"${:,.2f}\"})"
   ]
  },
  {
   "cell_type": "markdown",
   "metadata": {},
   "source": [
    "## Most Profitable Items"
   ]
  },
  {
   "cell_type": "markdown",
   "metadata": {},
   "source": [
    "* Sort the above table by total purchase value in descending order\n",
    "\n",
    "\n",
    "* Optional: give the displayed data cleaner formatting\n",
    "\n",
    "\n",
    "* Display a preview of the data frame\n",
    "\n"
   ]
  },
  {
   "cell_type": "code",
   "execution_count": 311,
   "metadata": {
    "scrolled": true
   },
   "outputs": [
    {
     "data": {
      "text/html": [
       "<style  type=\"text/css\" >\n",
       "</style><table id=\"T_3375ab86_1cae_11ea_bb1b_2cf0ee2f7552\" ><thead>    <tr>        <th class=\"blank\" ></th>        <th class=\"blank level0\" ></th>        <th class=\"col_heading level0 col0\" >Purchase Count</th>        <th class=\"col_heading level0 col1\" >Item Price</th>        <th class=\"col_heading level0 col2\" >Total Purchase Value</th>    </tr>    <tr>        <th class=\"index_name level0\" >Item ID</th>        <th class=\"index_name level1\" >Item Name</th>        <th class=\"blank\" ></th>        <th class=\"blank\" ></th>        <th class=\"blank\" ></th>    </tr></thead><tbody>\n",
       "                <tr>\n",
       "                        <th id=\"T_3375ab86_1cae_11ea_bb1b_2cf0ee2f7552level0_row0\" class=\"row_heading level0 row0\" >178</th>\n",
       "                        <th id=\"T_3375ab86_1cae_11ea_bb1b_2cf0ee2f7552level1_row0\" class=\"row_heading level1 row0\" >Oathbreaker, Last Hope of the Breaking Storm</th>\n",
       "                        <td id=\"T_3375ab86_1cae_11ea_bb1b_2cf0ee2f7552row0_col0\" class=\"data row0 col0\" >12</td>\n",
       "                        <td id=\"T_3375ab86_1cae_11ea_bb1b_2cf0ee2f7552row0_col1\" class=\"data row0 col1\" >$4.23</td>\n",
       "                        <td id=\"T_3375ab86_1cae_11ea_bb1b_2cf0ee2f7552row0_col2\" class=\"data row0 col2\" >$50.76</td>\n",
       "            </tr>\n",
       "            <tr>\n",
       "                        <th id=\"T_3375ab86_1cae_11ea_bb1b_2cf0ee2f7552level0_row1\" class=\"row_heading level0 row1\" >82</th>\n",
       "                        <th id=\"T_3375ab86_1cae_11ea_bb1b_2cf0ee2f7552level1_row1\" class=\"row_heading level1 row1\" >Nirvana</th>\n",
       "                        <td id=\"T_3375ab86_1cae_11ea_bb1b_2cf0ee2f7552row1_col0\" class=\"data row1 col0\" >9</td>\n",
       "                        <td id=\"T_3375ab86_1cae_11ea_bb1b_2cf0ee2f7552row1_col1\" class=\"data row1 col1\" >$4.90</td>\n",
       "                        <td id=\"T_3375ab86_1cae_11ea_bb1b_2cf0ee2f7552row1_col2\" class=\"data row1 col2\" >$44.10</td>\n",
       "            </tr>\n",
       "            <tr>\n",
       "                        <th id=\"T_3375ab86_1cae_11ea_bb1b_2cf0ee2f7552level0_row2\" class=\"row_heading level0 row2\" >145</th>\n",
       "                        <th id=\"T_3375ab86_1cae_11ea_bb1b_2cf0ee2f7552level1_row2\" class=\"row_heading level1 row2\" >Fiery Glass Crusader</th>\n",
       "                        <td id=\"T_3375ab86_1cae_11ea_bb1b_2cf0ee2f7552row2_col0\" class=\"data row2 col0\" >9</td>\n",
       "                        <td id=\"T_3375ab86_1cae_11ea_bb1b_2cf0ee2f7552row2_col1\" class=\"data row2 col1\" >$4.58</td>\n",
       "                        <td id=\"T_3375ab86_1cae_11ea_bb1b_2cf0ee2f7552row2_col2\" class=\"data row2 col2\" >$41.22</td>\n",
       "            </tr>\n",
       "            <tr>\n",
       "                        <th id=\"T_3375ab86_1cae_11ea_bb1b_2cf0ee2f7552level0_row3\" class=\"row_heading level0 row3\" >92</th>\n",
       "                        <th id=\"T_3375ab86_1cae_11ea_bb1b_2cf0ee2f7552level1_row3\" class=\"row_heading level1 row3\" >Final Critic</th>\n",
       "                        <td id=\"T_3375ab86_1cae_11ea_bb1b_2cf0ee2f7552row3_col0\" class=\"data row3 col0\" >8</td>\n",
       "                        <td id=\"T_3375ab86_1cae_11ea_bb1b_2cf0ee2f7552row3_col1\" class=\"data row3 col1\" >$4.88</td>\n",
       "                        <td id=\"T_3375ab86_1cae_11ea_bb1b_2cf0ee2f7552row3_col2\" class=\"data row3 col2\" >$39.04</td>\n",
       "            </tr>\n",
       "            <tr>\n",
       "                        <th id=\"T_3375ab86_1cae_11ea_bb1b_2cf0ee2f7552level0_row4\" class=\"row_heading level0 row4\" >103</th>\n",
       "                        <th id=\"T_3375ab86_1cae_11ea_bb1b_2cf0ee2f7552level1_row4\" class=\"row_heading level1 row4\" >Singed Scalpel</th>\n",
       "                        <td id=\"T_3375ab86_1cae_11ea_bb1b_2cf0ee2f7552row4_col0\" class=\"data row4 col0\" >8</td>\n",
       "                        <td id=\"T_3375ab86_1cae_11ea_bb1b_2cf0ee2f7552row4_col1\" class=\"data row4 col1\" >$4.35</td>\n",
       "                        <td id=\"T_3375ab86_1cae_11ea_bb1b_2cf0ee2f7552row4_col2\" class=\"data row4 col2\" >$34.80</td>\n",
       "            </tr>\n",
       "    </tbody></table>"
      ],
      "text/plain": [
       "<pandas.io.formats.style.Styler at 0x121768050>"
      ]
     },
     "execution_count": 311,
     "metadata": {},
     "output_type": "execute_result"
    }
   ],
   "source": [
    "# Take the most_popular items data frame and change the sorting to find highest total purchase value\n",
    "popular_formatted = most_popular_items.sort_values([\"Total Purchase Value\"],ascending=False).head()\n",
    "# Format with currency style\n",
    "popular_formatted.style.format({\"Item Price\":\"${:,.2f}\",\n",
    "                                \"Total Purchase Value\":\"${:,.2f}\"})\n"
   ]
  }
 ],
 "metadata": {
  "anaconda-cloud": {},
  "kernel_info": {
   "name": "python3"
  },
  "kernelspec": {
   "display_name": "Python 3",
   "language": "python",
   "name": "python3"
  },
  "language_info": {
   "codemirror_mode": {
    "name": "ipython",
    "version": 3
   },
   "file_extension": ".py",
   "mimetype": "text/x-python",
   "name": "python",
   "nbconvert_exporter": "python",
   "pygments_lexer": "ipython3",
   "version": "3.7.4"
  },
  "latex_envs": {
   "LaTeX_envs_menu_present": true,
   "autoclose": false,
   "autocomplete": true,
   "bibliofile": "biblio.bib",
   "cite_by": "apalike",
   "current_citInitial": 1,
   "eqLabelWithNumbers": true,
   "eqNumInitial": 1,
   "hotkeys": {
    "equation": "Ctrl-E",
    "itemize": "Ctrl-I"
   },
   "labels_anchors": false,
   "latex_user_defs": false,
   "report_style_numbering": false,
   "user_envs_cfg": false
  },
  "nteract": {
   "version": "0.2.0"
  }
 },
 "nbformat": 4,
 "nbformat_minor": 4
}
